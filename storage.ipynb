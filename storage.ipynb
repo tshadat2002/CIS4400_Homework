{
 "cells": [
  {
   "cell_type": "code",
   "execution_count": 1,
   "id": "910a3316",
   "metadata": {},
   "outputs": [],
   "source": [
    "import os\n",
    "os.environ['GOOGLE_APPLICATION_CREDENTIALS'] = 'Key/pragmatic-bongo-404116-e2d94f71da27.json'"
   ]
  },
  {
   "cell_type": "markdown",
   "id": "3b7c2212",
   "metadata": {},
   "source": [
    "#### Create Google Cloud Storage Bucket"
   ]
  },
  {
   "cell_type": "code",
   "execution_count": null,
   "id": "5b2b2d80",
   "metadata": {},
   "outputs": [],
   "source": [
    "from google.cloud import storage\n",
    "from google.cloud.storage import Bucket\n",
    "\n",
    "def create_bucket(bucket_name, project_id):\n",
    "    \"\"\"Creates a new bucket in a specific project.\"\"\"\n",
    "    storage_client = storage.Client(project=project_id)\n",
    "    bucket = storage_client.bucket(bucket_name)\n",
    "    new_bucket = storage_client.create_bucket(bucket, project=project_id)\n",
    "    print(f\"Bucket {new_bucket.name} created\")\n",
    "# Create a new bucket\n",
    "bucket_name = 'cis4400_homework'\n",
    "create_bucket(bucket_name, project_id)"
   ]
  },
  {
   "cell_type": "markdown",
   "id": "9f96a38a",
   "metadata": {},
   "source": [
    "#### Upload Data to Bucket"
   ]
  },
  {
   "cell_type": "code",
   "execution_count": null,
   "id": "f541de82",
   "metadata": {},
   "outputs": [],
   "source": [
    "from google.cloud import storage\n",
    "from google.cloud.storage import Bucket\n",
    "\n",
    "def upload_blob(bucket_name, source_file_name, destination_blob_name):\n",
    "    \"\"\"Uploads a file to the bucket.\"\"\"\n",
    "    storage_client = storage.Client()\n",
    "    bucket = storage_client.bucket(bucket_name)\n",
    "    blob = bucket.blob(destination_blob_name)\n",
    "\n",
    "    blob.upload_from_filename(source_file_name)\n",
    "\n",
    "    print(f\"File {source_file_name} uploaded to {destination_blob_name} in bucket {bucket_name}.\")\n",
    "    \n",
    "\n",
    "bucket_name = 'cis4400_homework'\n",
    "source_file_name = 'Data/Motor_Vehicle_Collisions_-_Crashes_20231025-1.csv'\n",
    "destination_blob_name = 'motor_vehicle_collisions_1.csv'\n",
    "\n",
    "# Upload the CSV file\n",
    "upload_blob(bucket_name, source_file_name, destination_blob_name)"
   ]
  }
 ],
 "metadata": {
  "kernelspec": {
   "display_name": "Python 3 (ipykernel)",
   "language": "python",
   "name": "python3"
  },
  "language_info": {
   "codemirror_mode": {
    "name": "ipython",
    "version": 3
   },
   "file_extension": ".py",
   "mimetype": "text/x-python",
   "name": "python",
   "nbconvert_exporter": "python",
   "pygments_lexer": "ipython3",
   "version": "3.8.2"
  }
 },
 "nbformat": 4,
 "nbformat_minor": 5
}
