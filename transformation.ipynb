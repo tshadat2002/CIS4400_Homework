{
 "cells": [
  {
   "cell_type": "code",
   "execution_count": 1,
   "id": "2af87168",
   "metadata": {},
   "outputs": [],
   "source": [
    "import os\n",
    "os.environ['GOOGLE_APPLICATION_CREDENTIALS'] = 'Key/pragmatic-bongo-404116-e2d94f71da27.json'"
   ]
  },
  {
   "cell_type": "markdown",
   "id": "3452033e",
   "metadata": {},
   "source": [
    "#### Data Transformation (Pulling Data From Storage First)"
   ]
  },
  {
   "cell_type": "code",
   "execution_count": null,
   "id": "f49a4051",
   "metadata": {},
   "outputs": [],
   "source": [
    "from google.cloud import storage\n",
    "import pandas as pd\n",
    "import io\n",
    "import hashlib\n",
    "\n",
    "# Replace with your GCS bucket and blob name\n",
    "bucket_name = 'cis4400_homework'\n",
    "source_blob_name = 'motor_vehicle_collisions_1.csv'\n",
    "\n",
    "# Initialize a storage client\n",
    "storage_client = storage.Client()\n",
    "bucket = storage_client.bucket(bucket_name)\n",
    "\n",
    "# Create a function to download the CSV file from GCS into memory\n",
    "def download_blob_to_memory(bucket_name, source_blob_name):\n",
    "    blob = bucket.blob(source_blob_name)\n",
    "    data = blob.download_as_bytes()\n",
    "    return io.BytesIO(data)\n",
    "\n",
    "# Download the CSV file from GCS into memory\n",
    "csv_memory = download_blob_to_memory(bucket_name, source_blob_name)\n",
    "\n",
    "# Load the CSV data into a Pandas DataFrame\n",
    "df = pd.read_csv(csv_memory)\n",
    "# Replace spaces with underscores in the column names\n",
    "df.columns = df.columns.str.replace(' ', '_')\n",
    "\n",
    "# 1. Unified date format YYYY-MM-DD\n",
    "df['CRASH_DATE'] = pd.to_datetime(df['CRASH_DATE']).dt.strftime('%Y-%m-%d')\n",
    "\n",
    "# 2. Splitting the date into multiple units (Year, Month, Day)\n",
    "df['YEAR'] = pd.to_datetime(df['CRASH_DATE']).dt.year\n",
    "df['MONTH'] = pd.to_datetime(df['CRASH_DATE']).dt.month\n",
    "df['DAY'] = pd.to_datetime(df['CRASH_DATE']).dt.day\n",
    "\n",
    "# 3. Removing NULL values\n",
    "# For demonstration, we will replace NaN values in 'ZIP_CODE' with a placeholder value (99999)\n",
    "df['ZIP_CODE'].fillna(99999, inplace=True)\n",
    "\n",
    "# 4. Removing Duplicate rows\n",
    "df.drop_duplicates(inplace=True)\n",
    "\n",
    "# 5. Verify Data against data reference (ZIP codes should be integers)\n",
    "df['ZIP_CODE'] = df['ZIP_CODE'].astype(int)\n",
    "\n",
    "# 6. Correct data types for new facts generated\n",
    "# As an example, we convert 'COLLISION_ID' to a string, as it is a unique identifier and not a numerical value\n",
    "df['COLLISION_ID'] = df['COLLISION_ID'].astype(str)\n",
    "\n",
    "# 7. Adding one or many columns\n",
    "# Add a column indicating whether an accident resulted in injuries or not\n",
    "df['INJURIES'] = df['NUMBER_OF_PERSONS_INJURED'] > 0\n",
    "\n",
    "\n",
    "def create_location_id(row):\n",
    "    # Create a unique hash for each location based on ZIP_CODE and BOROUGH\n",
    "    # You can include more fields if needed\n",
    "    hasher = hashlib.sha1()\n",
    "    hasher.update(str(row['ZIP_CODE']).encode('utf-8'))\n",
    "    hasher.update(str(row['BOROUGH']).encode('utf-8'))\n",
    "    # Return the first 10 characters of the hash as the location ID\n",
    "    return hasher.hexdigest()[:10]\n",
    "\n",
    "# Create a DATE_ID using the YYYYMMDD format\n",
    "df['DATE_ID'] = df['YEAR'].astype(str) + \\\n",
    "                                df['MONTH'].astype(str).str.zfill(2) + \\\n",
    "                                df['DAY'].astype(str).str.zfill(2)\n",
    "\n",
    "# Create a TIME_ID using the HHMM format (assuming you have a 'CRASH_TIME' column in HH:MM format)\n",
    "df['TIME_ID'] = df['CRASH_TIME'].str.replace(':', '')\n",
    "\n",
    "# Create a LOCATION_ID using a combination of ZIP_CODE and BOROUGH\n",
    "df['LOCATION_ID'] = df.apply(create_location_id, axis=1)"
   ]
  }
 ],
 "metadata": {
  "kernelspec": {
   "display_name": "Python 3 (ipykernel)",
   "language": "python",
   "name": "python3"
  },
  "language_info": {
   "codemirror_mode": {
    "name": "ipython",
    "version": 3
   },
   "file_extension": ".py",
   "mimetype": "text/x-python",
   "name": "python",
   "nbconvert_exporter": "python",
   "pygments_lexer": "ipython3",
   "version": "3.8.2"
  }
 },
 "nbformat": 4,
 "nbformat_minor": 5
}
